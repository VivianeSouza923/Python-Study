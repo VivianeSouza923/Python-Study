{
 "cells": [
  {
   "cell_type": "markdown",
   "id": "68be59bf",
   "metadata": {
    "papermill": {
     "duration": 0.005318,
     "end_time": "2024-03-31T17:00:00.117967",
     "exception": false,
     "start_time": "2024-03-31T17:00:00.112649",
     "status": "completed"
    },
    "tags": []
   },
   "source": [
    "**This notebook is an exercise in the [Python](https://www.kaggle.com/learn/python) course.  You can reference the tutorial at [this link](https://www.kaggle.com/colinmorris/strings-and-dictionaries).**\n",
    "\n",
    "---\n"
   ]
  },
  {
   "cell_type": "markdown",
   "id": "a9d957eb",
   "metadata": {
    "papermill": {
     "duration": 0.005244,
     "end_time": "2024-03-31T17:00:00.128271",
     "exception": false,
     "start_time": "2024-03-31T17:00:00.123027",
     "status": "completed"
    },
    "tags": []
   },
   "source": [
    "You are almost done with the course. Nice job!\n",
    "\n",
    "We have a couple more interesting problems for you before you go. \n",
    "\n",
    "As always, run the setup code below before working on the questions."
   ]
  },
  {
   "cell_type": "code",
   "execution_count": 1,
   "id": "1a4609a0",
   "metadata": {
    "execution": {
     "iopub.execute_input": "2024-03-31T17:00:00.140491Z",
     "iopub.status.busy": "2024-03-31T17:00:00.139982Z",
     "iopub.status.idle": "2024-03-31T17:00:01.243520Z",
     "shell.execute_reply": "2024-03-31T17:00:01.242305Z"
    },
    "papermill": {
     "duration": 1.112444,
     "end_time": "2024-03-31T17:00:01.245838",
     "exception": false,
     "start_time": "2024-03-31T17:00:00.133394",
     "status": "completed"
    },
    "tags": []
   },
   "outputs": [
    {
     "name": "stdout",
     "output_type": "stream",
     "text": [
      "Setup complete.\n"
     ]
    }
   ],
   "source": [
    "from learntools.core import binder; binder.bind(globals())\n",
    "from learntools.python.ex6 import *\n",
    "print('Setup complete.')"
   ]
  },
  {
   "cell_type": "markdown",
   "id": "ba8a1676",
   "metadata": {
    "papermill": {
     "duration": 0.004498,
     "end_time": "2024-03-31T17:00:01.255249",
     "exception": false,
     "start_time": "2024-03-31T17:00:01.250751",
     "status": "completed"
    },
    "tags": []
   },
   "source": [
    "Let's start with a string lightning round to warm up. What are the lengths of the strings below?\n",
    "\n",
    "For each of the five strings below, predict what `len()` would return when passed that string. Use the variable `length` to record your answer, then run the cell to check whether you were right.  \n",
    "\n",
    "# 0a."
   ]
  },
  {
   "cell_type": "code",
   "execution_count": 2,
   "id": "a19e8b73",
   "metadata": {
    "execution": {
     "iopub.execute_input": "2024-03-31T17:00:01.267215Z",
     "iopub.status.busy": "2024-03-31T17:00:01.265716Z",
     "iopub.status.idle": "2024-03-31T17:00:01.275448Z",
     "shell.execute_reply": "2024-03-31T17:00:01.274537Z"
    },
    "papermill": {
     "duration": 0.017427,
     "end_time": "2024-03-31T17:00:01.277319",
     "exception": false,
     "start_time": "2024-03-31T17:00:01.259892",
     "status": "completed"
    },
    "tags": []
   },
   "outputs": [
    {
     "data": {
      "application/javascript": [
       "parent.postMessage({\"jupyterEvent\": \"custom.exercise_interaction\", \"data\": {\"outcomeType\": 1, \"valueTowardsCompletion\": 0.3333333333333333, \"interactionType\": 1, \"questionType\": 1, \"questionId\": \"0.1_ZA\", \"learnToolsVersion\": \"0.3.4\", \"failureMessage\": \"\", \"exceptionClass\": \"\", \"trace\": \"\"}}, \"*\")"
      ],
      "text/plain": [
       "<IPython.core.display.Javascript object>"
      ]
     },
     "metadata": {},
     "output_type": "display_data"
    },
    {
     "data": {
      "text/markdown": [
       "<span style=\"color:#33cc33\">Correct:</span> \n",
       "\n",
       "The empty string has length zero. Note that the empty string is also the only string that Python considers as False when converting to boolean."
      ],
      "text/plain": [
       "Correct: \n",
       "\n",
       "The empty string has length zero. Note that the empty string is also the only string that Python considers as False when converting to boolean."
      ]
     },
     "metadata": {},
     "output_type": "display_data"
    }
   ],
   "source": [
    "a = \"\"\n",
    "length = len(a)\n",
    "q0.a.check()"
   ]
  },
  {
   "cell_type": "markdown",
   "id": "b3062f4e",
   "metadata": {
    "papermill": {
     "duration": 0.004516,
     "end_time": "2024-03-31T17:00:01.286785",
     "exception": false,
     "start_time": "2024-03-31T17:00:01.282269",
     "status": "completed"
    },
    "tags": []
   },
   "source": [
    "# 0b."
   ]
  },
  {
   "cell_type": "code",
   "execution_count": 3,
   "id": "8d452a51",
   "metadata": {
    "execution": {
     "iopub.execute_input": "2024-03-31T17:00:01.298106Z",
     "iopub.status.busy": "2024-03-31T17:00:01.297277Z",
     "iopub.status.idle": "2024-03-31T17:00:01.308212Z",
     "shell.execute_reply": "2024-03-31T17:00:01.306769Z"
    },
    "papermill": {
     "duration": 0.018914,
     "end_time": "2024-03-31T17:00:01.310363",
     "exception": false,
     "start_time": "2024-03-31T17:00:01.291449",
     "status": "completed"
    },
    "tags": []
   },
   "outputs": [
    {
     "data": {
      "application/javascript": [
       "parent.postMessage({\"jupyterEvent\": \"custom.exercise_interaction\", \"data\": {\"outcomeType\": 1, \"valueTowardsCompletion\": 0.3333333333333333, \"interactionType\": 1, \"questionType\": 1, \"questionId\": \"0.2_ZB\", \"learnToolsVersion\": \"0.3.4\", \"failureMessage\": \"\", \"exceptionClass\": \"\", \"trace\": \"\"}}, \"*\")"
      ],
      "text/plain": [
       "<IPython.core.display.Javascript object>"
      ]
     },
     "metadata": {},
     "output_type": "display_data"
    },
    {
     "data": {
      "text/markdown": [
       "<span style=\"color:#33cc33\">Correct:</span> \n",
       "\n",
       "Keep in mind Python includes spaces (and punctuation) when counting string length."
      ],
      "text/plain": [
       "Correct: \n",
       "\n",
       "Keep in mind Python includes spaces (and punctuation) when counting string length."
      ]
     },
     "metadata": {},
     "output_type": "display_data"
    }
   ],
   "source": [
    "b = \"it's ok\"\n",
    "length = len(b)\n",
    "q0.b.check()"
   ]
  },
  {
   "cell_type": "markdown",
   "id": "065119bf",
   "metadata": {
    "papermill": {
     "duration": 0.004886,
     "end_time": "2024-03-31T17:00:01.320741",
     "exception": false,
     "start_time": "2024-03-31T17:00:01.315855",
     "status": "completed"
    },
    "tags": []
   },
   "source": [
    "# 0c."
   ]
  },
  {
   "cell_type": "code",
   "execution_count": 4,
   "id": "339c1f03",
   "metadata": {
    "execution": {
     "iopub.execute_input": "2024-03-31T17:00:01.333489Z",
     "iopub.status.busy": "2024-03-31T17:00:01.332471Z",
     "iopub.status.idle": "2024-03-31T17:00:01.341514Z",
     "shell.execute_reply": "2024-03-31T17:00:01.340047Z"
    },
    "papermill": {
     "duration": 0.018042,
     "end_time": "2024-03-31T17:00:01.344022",
     "exception": false,
     "start_time": "2024-03-31T17:00:01.325980",
     "status": "completed"
    },
    "tags": []
   },
   "outputs": [
    {
     "data": {
      "application/javascript": [
       "parent.postMessage({\"jupyterEvent\": \"custom.exercise_interaction\", \"data\": {\"outcomeType\": 1, \"valueTowardsCompletion\": 0.3333333333333333, \"interactionType\": 1, \"questionType\": 1, \"questionId\": \"0.3_ZC\", \"learnToolsVersion\": \"0.3.4\", \"failureMessage\": \"\", \"exceptionClass\": \"\", \"trace\": \"\"}}, \"*\")"
      ],
      "text/plain": [
       "<IPython.core.display.Javascript object>"
      ]
     },
     "metadata": {},
     "output_type": "display_data"
    },
    {
     "data": {
      "text/markdown": [
       "<span style=\"color:#33cc33\">Correct:</span> \n",
       "\n",
       "Even though we use different syntax to create it, the string `c` is identical to `b`. In particular, note that the backslash is not part of the string, so it doesn't contribute to its length."
      ],
      "text/plain": [
       "Correct: \n",
       "\n",
       "Even though we use different syntax to create it, the string `c` is identical to `b`. In particular, note that the backslash is not part of the string, so it doesn't contribute to its length."
      ]
     },
     "metadata": {},
     "output_type": "display_data"
    }
   ],
   "source": [
    "c = 'it\\'s ok'\n",
    "length = len(c)\n",
    "q0.c.check()"
   ]
  },
  {
   "cell_type": "markdown",
   "id": "ad52d6db",
   "metadata": {
    "papermill": {
     "duration": 0.00517,
     "end_time": "2024-03-31T17:00:01.354799",
     "exception": false,
     "start_time": "2024-03-31T17:00:01.349629",
     "status": "completed"
    },
    "tags": []
   },
   "source": [
    "# 0d."
   ]
  },
  {
   "cell_type": "code",
   "execution_count": 5,
   "id": "7fe197ec",
   "metadata": {
    "execution": {
     "iopub.execute_input": "2024-03-31T17:00:01.367032Z",
     "iopub.status.busy": "2024-03-31T17:00:01.366684Z",
     "iopub.status.idle": "2024-03-31T17:00:01.377151Z",
     "shell.execute_reply": "2024-03-31T17:00:01.375516Z"
    },
    "papermill": {
     "duration": 0.019352,
     "end_time": "2024-03-31T17:00:01.379516",
     "exception": false,
     "start_time": "2024-03-31T17:00:01.360164",
     "status": "completed"
    },
    "tags": []
   },
   "outputs": [
    {
     "name": "stdout",
     "output_type": "stream",
     "text": [
      "3\n"
     ]
    },
    {
     "data": {
      "application/javascript": [
       "parent.postMessage({\"jupyterEvent\": \"custom.exercise_interaction\", \"data\": {\"outcomeType\": 1, \"valueTowardsCompletion\": 0.3333333333333333, \"interactionType\": 1, \"questionType\": 1, \"questionId\": \"0.4_ZD\", \"learnToolsVersion\": \"0.3.4\", \"failureMessage\": \"\", \"exceptionClass\": \"\", \"trace\": \"\"}}, \"*\")"
      ],
      "text/plain": [
       "<IPython.core.display.Javascript object>"
      ]
     },
     "metadata": {},
     "output_type": "display_data"
    },
    {
     "data": {
      "text/markdown": [
       "<span style=\"color:#33cc33\">Correct:</span> \n",
       "\n",
       "The fact that this string was created using triple-quote syntax doesn't make any difference in terms of its content or length. This string is exactly the same as `'hey'`."
      ],
      "text/plain": [
       "Correct: \n",
       "\n",
       "The fact that this string was created using triple-quote syntax doesn't make any difference in terms of its content or length. This string is exactly the same as `'hey'`."
      ]
     },
     "metadata": {},
     "output_type": "display_data"
    }
   ],
   "source": [
    "d = \"\"\"hey\"\"\"\n",
    "length = len(d)\n",
    "print(length)\n",
    "q0.d.check()"
   ]
  },
  {
   "cell_type": "markdown",
   "id": "1357d981",
   "metadata": {
    "papermill": {
     "duration": 0.006592,
     "end_time": "2024-03-31T17:00:01.391951",
     "exception": false,
     "start_time": "2024-03-31T17:00:01.385359",
     "status": "completed"
    },
    "tags": []
   },
   "source": [
    "# 0e."
   ]
  },
  {
   "cell_type": "code",
   "execution_count": 6,
   "id": "e6054f3e",
   "metadata": {
    "execution": {
     "iopub.execute_input": "2024-03-31T17:00:01.405048Z",
     "iopub.status.busy": "2024-03-31T17:00:01.404698Z",
     "iopub.status.idle": "2024-03-31T17:00:01.415798Z",
     "shell.execute_reply": "2024-03-31T17:00:01.414109Z"
    },
    "papermill": {
     "duration": 0.020062,
     "end_time": "2024-03-31T17:00:01.417809",
     "exception": false,
     "start_time": "2024-03-31T17:00:01.397747",
     "status": "completed"
    },
    "tags": []
   },
   "outputs": [
    {
     "name": "stdout",
     "output_type": "stream",
     "text": [
      "1\n"
     ]
    },
    {
     "data": {
      "application/javascript": [
       "parent.postMessage({\"jupyterEvent\": \"custom.exercise_interaction\", \"data\": {\"outcomeType\": 1, \"valueTowardsCompletion\": 0.3333333333333333, \"interactionType\": 1, \"questionType\": 1, \"questionId\": \"0.5_ZE\", \"learnToolsVersion\": \"0.3.4\", \"failureMessage\": \"\", \"exceptionClass\": \"\", \"trace\": \"\"}}, \"*\")"
      ],
      "text/plain": [
       "<IPython.core.display.Javascript object>"
      ]
     },
     "metadata": {},
     "output_type": "display_data"
    },
    {
     "data": {
      "text/markdown": [
       "<span style=\"color:#33cc33\">Correct:</span> \n",
       "\n",
       "The newline character is just a single character! (Even though we represent it to Python using a combination of two characters.)"
      ],
      "text/plain": [
       "Correct: \n",
       "\n",
       "The newline character is just a single character! (Even though we represent it to Python using a combination of two characters.)"
      ]
     },
     "metadata": {},
     "output_type": "display_data"
    }
   ],
   "source": [
    "e = '\\n'\n",
    "length = len(e)\n",
    "print(length)\n",
    "q0.e.check()"
   ]
  },
  {
   "cell_type": "markdown",
   "id": "fb08d748",
   "metadata": {
    "papermill": {
     "duration": 0.006083,
     "end_time": "2024-03-31T17:00:01.430216",
     "exception": false,
     "start_time": "2024-03-31T17:00:01.424133",
     "status": "completed"
    },
    "tags": []
   },
   "source": [
    "# 1.\n",
    "\n",
    "There is a saying that \"Data scientists spend 80% of their time cleaning data, and 20% of their time complaining about cleaning data.\" Let's see if you can write a function to help clean US zip code data. Given a string, it should return whether or not that string represents a valid zip code. For our purposes, a valid zip code is any string consisting of exactly 5 digits.\n",
    "\n",
    "HINT: `str` has a method that will be useful here. Use `help(str)` to review a list of string methods."
   ]
  },
  {
   "cell_type": "code",
   "execution_count": 7,
   "id": "efdb8206",
   "metadata": {
    "execution": {
     "iopub.execute_input": "2024-03-31T17:00:01.445151Z",
     "iopub.status.busy": "2024-03-31T17:00:01.444542Z",
     "iopub.status.idle": "2024-03-31T17:00:01.452412Z",
     "shell.execute_reply": "2024-03-31T17:00:01.451207Z"
    },
    "papermill": {
     "duration": 0.017821,
     "end_time": "2024-03-31T17:00:01.454264",
     "exception": false,
     "start_time": "2024-03-31T17:00:01.436443",
     "status": "completed"
    },
    "tags": []
   },
   "outputs": [
    {
     "data": {
      "application/javascript": [
       "parent.postMessage({\"jupyterEvent\": \"custom.exercise_interaction\", \"data\": {\"outcomeType\": 1, \"valueTowardsCompletion\": 0.3333333333333333, \"interactionType\": 1, \"questionType\": 2, \"questionId\": \"1_ZipValidator\", \"learnToolsVersion\": \"0.3.4\", \"failureMessage\": \"\", \"exceptionClass\": \"\", \"trace\": \"\"}}, \"*\")"
      ],
      "text/plain": [
       "<IPython.core.display.Javascript object>"
      ]
     },
     "metadata": {},
     "output_type": "display_data"
    },
    {
     "data": {
      "text/markdown": [
       "<span style=\"color:#33cc33\">Correct</span>"
      ],
      "text/plain": [
       "Correct"
      ]
     },
     "metadata": {},
     "output_type": "display_data"
    }
   ],
   "source": [
    "def is_valid_zip(zip_code):\n",
    "    \"\"\"Returns whether the input string is a valid (5 digit) zip code\n",
    "    \"\"\"\n",
    "    return len(zip_code) == 5 and zip_code.isdigit()\n",
    "\n",
    "# Check your answer\n",
    "q1.check()"
   ]
  },
  {
   "cell_type": "code",
   "execution_count": 8,
   "id": "19496a20",
   "metadata": {
    "execution": {
     "iopub.execute_input": "2024-03-31T17:00:01.469622Z",
     "iopub.status.busy": "2024-03-31T17:00:01.468974Z",
     "iopub.status.idle": "2024-03-31T17:00:01.472839Z",
     "shell.execute_reply": "2024-03-31T17:00:01.471762Z"
    },
    "papermill": {
     "duration": 0.013933,
     "end_time": "2024-03-31T17:00:01.474784",
     "exception": false,
     "start_time": "2024-03-31T17:00:01.460851",
     "status": "completed"
    },
    "tags": []
   },
   "outputs": [],
   "source": [
    "#q1.hint()\n",
    "#q1.solution()"
   ]
  },
  {
   "cell_type": "markdown",
   "id": "217bd123",
   "metadata": {
    "papermill": {
     "duration": 0.00614,
     "end_time": "2024-03-31T17:00:01.487670",
     "exception": false,
     "start_time": "2024-03-31T17:00:01.481530",
     "status": "completed"
    },
    "tags": []
   },
   "source": [
    "# 2.\n",
    "\n",
    "A researcher has gathered thousands of news articles. But she wants to focus her attention on articles including a specific word. Complete the function below to help her filter her list of articles.\n",
    "\n",
    "Your function should meet the following criteria:\n",
    "\n",
    "- Do not include documents where the keyword string shows up only as a part of a larger word. For example, if she were looking for the keyword “closed”, you would not include the string “enclosed.” \n",
    "- She does not want you to distinguish upper case from lower case letters. So the phrase “Closed the case.” would be included when the keyword is “closed”\n",
    "- Do not let periods or commas affect what is matched. “It is closed.” would be included when the keyword is “closed”. But you can assume there are no other types of punctuation."
   ]
  },
  {
   "cell_type": "code",
   "execution_count": 9,
   "id": "41f2c626",
   "metadata": {
    "execution": {
     "iopub.execute_input": "2024-03-31T17:00:01.504033Z",
     "iopub.status.busy": "2024-03-31T17:00:01.503328Z",
     "iopub.status.idle": "2024-03-31T17:00:01.511975Z",
     "shell.execute_reply": "2024-03-31T17:00:01.511107Z"
    },
    "papermill": {
     "duration": 0.019873,
     "end_time": "2024-03-31T17:00:01.513817",
     "exception": false,
     "start_time": "2024-03-31T17:00:01.493944",
     "status": "completed"
    },
    "tags": []
   },
   "outputs": [
    {
     "data": {
      "application/javascript": [
       "parent.postMessage({\"jupyterEvent\": \"custom.exercise_interaction\", \"data\": {\"outcomeType\": 1, \"valueTowardsCompletion\": 0.3333333333333333, \"interactionType\": 1, \"questionType\": 2, \"questionId\": \"2_WordSearch\", \"learnToolsVersion\": \"0.3.4\", \"failureMessage\": \"\", \"exceptionClass\": \"\", \"trace\": \"\"}}, \"*\")"
      ],
      "text/plain": [
       "<IPython.core.display.Javascript object>"
      ]
     },
     "metadata": {},
     "output_type": "display_data"
    },
    {
     "data": {
      "text/markdown": [
       "<span style=\"color:#33cc33\">Correct</span>"
      ],
      "text/plain": [
       "Correct"
      ]
     },
     "metadata": {},
     "output_type": "display_data"
    }
   ],
   "source": [
    "def word_search(doc_list, keyword):\n",
    "    indices = [] \n",
    "    for i, doc in enumerate(doc_list):\n",
    "        tokens = doc.split()\n",
    "        normalized = [token.rstrip('.,').lower() for token in tokens]\n",
    "        if keyword.lower() in normalized:\n",
    "            indices.append(i)\n",
    "    return indices\n",
    "\n",
    "# CONTINUAAAAAR!\n",
    "\n",
    "# Check your answer\n",
    "q2.check()"
   ]
  },
  {
   "cell_type": "code",
   "execution_count": 10,
   "id": "667e19fd",
   "metadata": {
    "execution": {
     "iopub.execute_input": "2024-03-31T17:00:01.530967Z",
     "iopub.status.busy": "2024-03-31T17:00:01.530290Z",
     "iopub.status.idle": "2024-03-31T17:00:01.534735Z",
     "shell.execute_reply": "2024-03-31T17:00:01.533209Z"
    },
    "papermill": {
     "duration": 0.016724,
     "end_time": "2024-03-31T17:00:01.537311",
     "exception": false,
     "start_time": "2024-03-31T17:00:01.520587",
     "status": "completed"
    },
    "tags": []
   },
   "outputs": [],
   "source": [
    "#q2.hint()\n",
    "#q2.solution()"
   ]
  },
  {
   "cell_type": "markdown",
   "id": "99f9e5c4",
   "metadata": {
    "papermill": {
     "duration": 0.006482,
     "end_time": "2024-03-31T17:00:01.551048",
     "exception": false,
     "start_time": "2024-03-31T17:00:01.544566",
     "status": "completed"
    },
    "tags": []
   },
   "source": [
    "# 3.\n",
    "\n",
    "Now the researcher wants to supply multiple keywords to search for. Complete the function below to help her.\n",
    "\n",
    "(You're encouraged to use the `word_search` function you just wrote when implementing this function. Reusing code in this way makes your programs more robust and readable - and it saves typing!)"
   ]
  },
  {
   "cell_type": "code",
   "execution_count": 11,
   "id": "15f3b350",
   "metadata": {
    "execution": {
     "iopub.execute_input": "2024-03-31T17:00:01.567372Z",
     "iopub.status.busy": "2024-03-31T17:00:01.566954Z",
     "iopub.status.idle": "2024-03-31T17:00:01.578462Z",
     "shell.execute_reply": "2024-03-31T17:00:01.576549Z"
    },
    "papermill": {
     "duration": 0.023379,
     "end_time": "2024-03-31T17:00:01.581084",
     "exception": false,
     "start_time": "2024-03-31T17:00:01.557705",
     "status": "completed"
    },
    "tags": []
   },
   "outputs": [
    {
     "data": {
      "application/javascript": [
       "parent.postMessage({\"jupyterEvent\": \"custom.exercise_interaction\", \"data\": {\"outcomeType\": 4, \"interactionType\": 1, \"questionType\": 2, \"questionId\": \"3_MultiWordSearch\", \"learnToolsVersion\": \"0.3.4\", \"valueTowardsCompletion\": 0.0, \"failureMessage\": \"\", \"exceptionClass\": \"\", \"trace\": \"\"}}, \"*\")"
      ],
      "text/plain": [
       "<IPython.core.display.Javascript object>"
      ]
     },
     "metadata": {},
     "output_type": "display_data"
    },
    {
     "data": {
      "text/markdown": [
       "<span style=\"color:#ccaa33\">Check:</span> When you've updated the starter code, `check()` will tell you whether your code is correct. "
      ],
      "text/plain": [
       "Check: When you've updated the starter code, `check()` will tell you whether your code is correct. "
      ]
     },
     "metadata": {},
     "output_type": "display_data"
    }
   ],
   "source": [
    "def multi_word_search(doc_list, keywords):\n",
    "    \"\"\"\n",
    "    Takes list of documents (each document is a string) and a list of keywords.  \n",
    "    Returns a dictionary where each key is a keyword, and the value is a list of indices\n",
    "    (from doc_list) of the documents containing that keyword\n",
    "\n",
    "    >>> doc_list = [\"The Learn Python Challenge Casino.\", \"They bought a car and a casino\", \"Casinoville\"]\n",
    "    >>> keywords = ['casino', 'they']\n",
    "    >>> multi_word_search(doc_list, keywords)\n",
    "    {'casino': [0, 1], 'they': [1]}\n",
    "    \"\"\"\n",
    "    pass\n",
    "\n",
    "# Check your answer\n",
    "q3.check()"
   ]
  },
  {
   "cell_type": "code",
   "execution_count": 12,
   "id": "53e9d4a1",
   "metadata": {
    "execution": {
     "iopub.execute_input": "2024-03-31T17:00:01.597030Z",
     "iopub.status.busy": "2024-03-31T17:00:01.596336Z",
     "iopub.status.idle": "2024-03-31T17:00:01.601001Z",
     "shell.execute_reply": "2024-03-31T17:00:01.599401Z"
    },
    "papermill": {
     "duration": 0.015308,
     "end_time": "2024-03-31T17:00:01.603329",
     "exception": false,
     "start_time": "2024-03-31T17:00:01.588021",
     "status": "completed"
    },
    "tags": []
   },
   "outputs": [],
   "source": [
    "#q3.solution()"
   ]
  },
  {
   "cell_type": "markdown",
   "id": "c343a6f1",
   "metadata": {
    "papermill": {
     "duration": 0.006556,
     "end_time": "2024-03-31T17:00:01.617007",
     "exception": false,
     "start_time": "2024-03-31T17:00:01.610451",
     "status": "completed"
    },
    "tags": []
   },
   "source": [
    "# Keep Going\n",
    "\n",
    "You've learned a lot. But even the best programmers rely heavily on \"libraries\" of code from other programmers. You'll learn about that in **[the last lesson](https://www.kaggle.com/colinmorris/working-with-external-libraries)**.\n"
   ]
  },
  {
   "cell_type": "markdown",
   "id": "230cd156",
   "metadata": {
    "papermill": {
     "duration": 0.00749,
     "end_time": "2024-03-31T17:00:01.631321",
     "exception": false,
     "start_time": "2024-03-31T17:00:01.623831",
     "status": "completed"
    },
    "tags": []
   },
   "source": [
    "---\n",
    "\n",
    "\n",
    "\n",
    "\n",
    "*Have questions or comments? Visit the [course discussion forum](https://www.kaggle.com/learn/python/discussion) to chat with other learners.*"
   ]
  }
 ],
 "metadata": {
  "kaggle": {
   "accelerator": "none",
   "dataSources": [],
   "isGpuEnabled": false,
   "isInternetEnabled": false,
   "language": "python",
   "sourceType": "notebook"
  },
  "kernelspec": {
   "display_name": "Python 3",
   "language": "python",
   "name": "python3"
  },
  "language_info": {
   "codemirror_mode": {
    "name": "ipython",
    "version": 3
   },
   "file_extension": ".py",
   "mimetype": "text/x-python",
   "name": "python",
   "nbconvert_exporter": "python",
   "pygments_lexer": "ipython3",
   "version": "3.10.13"
  },
  "learntools_metadata": {
   "lesson_index": 5,
   "type": "exercise"
  },
  "papermill": {
   "default_parameters": {},
   "duration": 4.657048,
   "end_time": "2024-03-31T17:00:02.160420",
   "environment_variables": {},
   "exception": null,
   "input_path": "__notebook__.ipynb",
   "output_path": "__notebook__.ipynb",
   "parameters": {},
   "start_time": "2024-03-31T16:59:57.503372",
   "version": "2.5.0"
  }
 },
 "nbformat": 4,
 "nbformat_minor": 5
}
