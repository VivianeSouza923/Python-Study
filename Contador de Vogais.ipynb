{
 "cells": [
  {
   "cell_type": "code",
   "execution_count": 1,
   "id": "aa51a228",
   "metadata": {},
   "outputs": [],
   "source": [
    "#     6. Contador de Vogais:\n",
    " #       ◦ Solicite uma palavra ao usuário e conte o número de vogais na palavra."
   ]
  },
  {
   "cell_type": "code",
   "execution_count": 2,
   "id": "ef56bff6",
   "metadata": {},
   "outputs": [
    {
     "name": "stdout",
     "output_type": "stream",
     "text": [
      "Digite uma palavra: amor\n"
     ]
    }
   ],
   "source": [
    "palavra = input('Digite uma palavra: ')"
   ]
  },
  {
   "cell_type": "code",
   "execution_count": 7,
   "id": "2c887908",
   "metadata": {},
   "outputs": [
    {
     "name": "stdout",
     "output_type": "stream",
     "text": [
      "2\n"
     ]
    }
   ],
   "source": [
    "letra_a = palavra.count('a')\n",
    "letra_e = palavra.count('e')\n",
    "letra_i = palavra.count('i')\n",
    "letra_o = palavra.count('o')\n",
    "letra_u = palavra.count('u')\n",
    "\n",
    "print(letra_a + letra_e + letra_i + letra_o + letra_u)"
   ]
  },
  {
   "cell_type": "code",
   "execution_count": null,
   "id": "611d8afc",
   "metadata": {},
   "outputs": [],
   "source": []
  }
 ],
 "metadata": {
  "kernelspec": {
   "display_name": "Python 3 (ipykernel)",
   "language": "python",
   "name": "python3"
  },
  "language_info": {
   "codemirror_mode": {
    "name": "ipython",
    "version": 3
   },
   "file_extension": ".py",
   "mimetype": "text/x-python",
   "name": "python",
   "nbconvert_exporter": "python",
   "pygments_lexer": "ipython3",
   "version": "3.9.12"
  }
 },
 "nbformat": 4,
 "nbformat_minor": 5
}
