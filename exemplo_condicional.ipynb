{
  "nbformat": 4,
  "nbformat_minor": 0,
  "metadata": {
    "colab": {
      "provenance": [],
      "authorship_tag": "ABX9TyP7J1ZvZF5x2NBsmTsXgy5x",
      "include_colab_link": true
    },
    "kernelspec": {
      "name": "python3",
      "display_name": "Python 3"
    },
    "language_info": {
      "name": "python"
    }
  },
  "cells": [
    {
      "cell_type": "markdown",
      "metadata": {
        "id": "view-in-github",
        "colab_type": "text"
      },
      "source": [
        "<a href=\"https://colab.research.google.com/github/VivianeSouza923/Python-Study/blob/main/exemplo_condicional.ipynb\" target=\"_parent\"><img src=\"https://colab.research.google.com/assets/colab-badge.svg\" alt=\"Open In Colab\"/></a>"
      ]
    },
    {
      "cell_type": "code",
      "execution_count": 39,
      "metadata": {
        "colab": {
          "base_uri": "https://localhost:8080/"
        },
        "id": "B9qrIwOx5Svd",
        "outputId": "5bc27d57-d937-43e9-f0a8-273c05aaab6a"
      },
      "outputs": [
        {
          "name": "stdout",
          "output_type": "stream",
          "text": [
            "Digite a primeira nota: 4\n"
          ]
        }
      ],
      "source": [
        "m1 = float(input(\"Digite a primeira nota: \"))\n"
      ]
    },
    {
      "cell_type": "code",
      "source": [
        "m2 = float(input('Digite a segunda nota: '))"
      ],
      "metadata": {
        "colab": {
          "base_uri": "https://localhost:8080/"
        },
        "id": "BcAMYAT25avq",
        "outputId": "1b7404a9-3f4d-40f2-b889-33d94df8bee5"
      },
      "execution_count": 40,
      "outputs": [
        {
          "name": "stdout",
          "output_type": "stream",
          "text": [
            "Digite a segunda nota: 4\n"
          ]
        }
      ]
    },
    {
      "cell_type": "code",
      "source": [
        "m3 = float(input('Digite a terceira nota: '))"
      ],
      "metadata": {
        "colab": {
          "base_uri": "https://localhost:8080/"
        },
        "id": "daGIcO2k5r7k",
        "outputId": "88795ef2-f494-4e1e-c36d-026490f02192"
      },
      "execution_count": 41,
      "outputs": [
        {
          "name": "stdout",
          "output_type": "stream",
          "text": [
            "Digite a terceira nota: 4\n"
          ]
        }
      ]
    },
    {
      "cell_type": "code",
      "source": [
        "media = (m1+m2+m3)/3\n",
        "media"
      ],
      "metadata": {
        "colab": {
          "base_uri": "https://localhost:8080/"
        },
        "id": "ND3WlElk5u9b",
        "outputId": "4c91b573-d541-492a-8e78-9d48a2ea5d2e"
      },
      "execution_count": 42,
      "outputs": [
        {
          "output_type": "execute_result",
          "data": {
            "text/plain": [
              "4.0"
            ]
          },
          "metadata": {},
          "execution_count": 42
        }
      ]
    },
    {
      "cell_type": "code",
      "source": [
        "if media >= 6:\n",
        "  print('Aluno aprovado!')\n",
        "elif media >= 4:\n",
        "    print('Aluno está de AF!')\n",
        "    nota = float(input('Qual a nota da AF?\\n'))\n",
        "    if nota >= 6:\n",
        "      print(\"ALuno passou na AF!\")\n",
        "    else:\n",
        "      print(\"Aluno reprovado na AF!\")\n",
        "else:\n",
        "  print('Aluno reprovado!')"
      ],
      "metadata": {
        "colab": {
          "base_uri": "https://localhost:8080/"
        },
        "id": "AL-Il7jX57Su",
        "outputId": "70a4b5db-fa47-4238-d444-1790ca1c52d6"
      },
      "execution_count": 46,
      "outputs": [
        {
          "output_type": "stream",
          "name": "stdout",
          "text": [
            "Aluno está de AF!\n",
            "Qual a nota da AF?\n",
            "8\n",
            "ALuno passou na AF!\n"
          ]
        }
      ]
    },
    {
      "cell_type": "code",
      "source": [],
      "metadata": {
        "id": "qiulKsMo6Pde"
      },
      "execution_count": null,
      "outputs": []
    }
  ]
}