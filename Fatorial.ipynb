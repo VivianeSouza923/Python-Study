{
 "cells": [
  {
   "cell_type": "code",
   "execution_count": 1,
   "id": "b93b04c2",
   "metadata": {},
   "outputs": [],
   "source": [
    "#     8. Fatorial:\n",
    "#        ◦ Crie um programa que calcule o fatorial de um número. O fatorial de n é o produto de todos os números \n",
    "#   inteiros de 1 a n."
   ]
  },
  {
   "cell_type": "code",
   "execution_count": 26,
   "id": "7856fe13",
   "metadata": {},
   "outputs": [
    {
     "name": "stdout",
     "output_type": "stream",
     "text": [
      "0\n"
     ]
    }
   ],
   "source": [
    "num = int(input())"
   ]
  },
  {
   "cell_type": "code",
   "execution_count": 27,
   "id": "d1468b86",
   "metadata": {},
   "outputs": [
    {
     "name": "stdout",
     "output_type": "stream",
     "text": [
      "O fatorial de 0 é 1.\n"
     ]
    }
   ],
   "source": [
    "if (num == 0 or num == 1):\n",
    "    print(f'O fatorial de {num} é 1.')\n",
    "else:\n",
    "    fat = 1\n",
    "    for i in range(1, num + 1):\n",
    "        fat *= i\n",
    "    print(f'O fatorial de {num} é {fat}.')"
   ]
  },
  {
   "cell_type": "code",
   "execution_count": null,
   "id": "f6cc8d3f",
   "metadata": {},
   "outputs": [],
   "source": []
  }
 ],
 "metadata": {
  "kernelspec": {
   "display_name": "Python 3 (ipykernel)",
   "language": "python",
   "name": "python3"
  },
  "language_info": {
   "codemirror_mode": {
    "name": "ipython",
    "version": 3
   },
   "file_extension": ".py",
   "mimetype": "text/x-python",
   "name": "python",
   "nbconvert_exporter": "python",
   "pygments_lexer": "ipython3",
   "version": "3.9.12"
  }
 },
 "nbformat": 4,
 "nbformat_minor": 5
}
