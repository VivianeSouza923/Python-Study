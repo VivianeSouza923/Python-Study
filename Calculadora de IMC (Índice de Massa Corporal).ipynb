{
 "cells": [
  {
   "cell_type": "code",
   "execution_count": 1,
   "id": "77b9149c",
   "metadata": {},
   "outputs": [],
   "source": [
    "#    10. Calculadora de IMC (Índice de Massa Corporal):\n",
    "#        ◦ Peça o peso (em kg) e a altura (em metros) ao usuário e calcule o IMC usando a fórmula: IMC=altura2peso​."
   ]
  },
  {
   "cell_type": "code",
   "execution_count": 9,
   "id": "d626a93e",
   "metadata": {},
   "outputs": [
    {
     "name": "stdout",
     "output_type": "stream",
     "text": [
      "Digite o peso: 54.30\n",
      "Digite a altura: 1.49\n"
     ]
    }
   ],
   "source": [
    "peso = float(input('Digite o peso: '))\n",
    "altura = float(input('Digite a altura: '))"
   ]
  },
  {
   "cell_type": "code",
   "execution_count": 10,
   "id": "174ee1e3",
   "metadata": {},
   "outputs": [
    {
     "name": "stdout",
     "output_type": "stream",
     "text": [
      "24.458357731633708\n"
     ]
    }
   ],
   "source": [
    "imc = peso/altura**2\n",
    "print(imc)"
   ]
  },
  {
   "cell_type": "code",
   "execution_count": null,
   "id": "12e7b9d7",
   "metadata": {},
   "outputs": [],
   "source": []
  }
 ],
 "metadata": {
  "kernelspec": {
   "display_name": "Python 3 (ipykernel)",
   "language": "python",
   "name": "python3"
  },
  "language_info": {
   "codemirror_mode": {
    "name": "ipython",
    "version": 3
   },
   "file_extension": ".py",
   "mimetype": "text/x-python",
   "name": "python",
   "nbconvert_exporter": "python",
   "pygments_lexer": "ipython3",
   "version": "3.9.12"
  }
 },
 "nbformat": 4,
 "nbformat_minor": 5
}
