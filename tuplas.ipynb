{
 "cells": [
  {
   "cell_type": "raw",
   "id": "22056857-d19d-4c2e-bd2a-2a0331b9c881",
   "metadata": {},
   "source": [
    "    3. Tuplas:\n",
    "        ◦ Crie uma tupla com os dias da semana. Imprima cada dia da semana.\n",
    "        ◦ Crie uma tupla com os números de 1 a 10. Imprima a soma dos números pares da tupla.\n",
    "        ◦ Crie uma tupla com os nomes de 5 frutas. Imprima o nome da fruta que começa com a letra \"A\"."
   ]
  },
  {
   "cell_type": "code",
   "execution_count": 3,
   "id": "235ee5cf-9fcd-4fa6-9e9e-2a9b8aaff043",
   "metadata": {},
   "outputs": [
    {
     "name": "stdout",
     "output_type": "stream",
     "text": [
      "Segunda\n",
      "Terça\n",
      "Quarta\n",
      "Quinta\n",
      "Sexta\n",
      "Sábado\n",
      "Domingo\n"
     ]
    }
   ],
   "source": [
    "tupla_diasSemana = ('Segunda', 'Terça', 'Quarta', 'Quinta', 'Sexta', 'Sábado', 'Domingo')\n",
    "\n",
    "for elemento in tupla_diasSemana:\n",
    "    print(elemento)"
   ]
  },
  {
   "cell_type": "code",
   "execution_count": 9,
   "id": "6bf80152-bef0-45cf-bc8b-136802d0796d",
   "metadata": {},
   "outputs": [
    {
     "name": "stdout",
     "output_type": "stream",
     "text": [
      "30\n"
     ]
    }
   ],
   "source": [
    "tupla_UmaDez = (1, 2, 3, 4, 5, 6, 7, 8, 9, 10)\n",
    "\n",
    "pares = 0\n",
    "for elemento in tupla_UmaDez:\n",
    "    if elemento % 2 == 0:\n",
    "        pares += elemento\n",
    "    \n",
    "print(pares)\n",
    "\n",
    "        "
   ]
  },
  {
   "cell_type": "code",
   "execution_count": 10,
   "id": "80074108-b200-4e86-80ab-bff4460162f3",
   "metadata": {},
   "outputs": [
    {
     "name": "stdout",
     "output_type": "stream",
     "text": [
      "Amora\n"
     ]
    }
   ],
   "source": [
    "tupla_frutas = ('Maçã', 'Goiaba', 'Maracujá', 'Limão', 'Amora')\n",
    "\n",
    "for fruta in tupla_frutas:\n",
    "    if fruta[0].lower() == 'a':\n",
    "        print(fruta)"
   ]
  },
  {
   "cell_type": "code",
   "execution_count": null,
   "id": "8f3a08eb-5756-4856-b657-0af2dfb33cf8",
   "metadata": {},
   "outputs": [],
   "source": []
  }
 ],
 "metadata": {
  "kernelspec": {
   "display_name": "Python 3 (ipykernel)",
   "language": "python",
   "name": "python3"
  },
  "language_info": {
   "codemirror_mode": {
    "name": "ipython",
    "version": 3
   },
   "file_extension": ".py",
   "mimetype": "text/x-python",
   "name": "python",
   "nbconvert_exporter": "python",
   "pygments_lexer": "ipython3",
   "version": "3.9.19"
  }
 },
 "nbformat": 4,
 "nbformat_minor": 5
}
