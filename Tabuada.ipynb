{
 "cells": [
  {
   "cell_type": "code",
   "execution_count": 1,
   "id": "4caf0b87",
   "metadata": {},
   "outputs": [],
   "source": [
    "#     7. Tabuada:\n",
    " #       ◦ Peça um número ao usuário e imprima a tabuada desse número."
   ]
  },
  {
   "cell_type": "code",
   "execution_count": 3,
   "id": "01ae899e",
   "metadata": {},
   "outputs": [
    {
     "name": "stdout",
     "output_type": "stream",
     "text": [
      "Digite um número: 6\n"
     ]
    }
   ],
   "source": [
    "num = int(input('Digite um número: '))"
   ]
  },
  {
   "cell_type": "code",
   "execution_count": 4,
   "id": "690c0eaa",
   "metadata": {},
   "outputs": [
    {
     "name": "stdout",
     "output_type": "stream",
     "text": [
      "Tabuada da soma de 6: \n",
      "6 + 1 = 7\n",
      "6 + 2 = 8\n",
      "6 + 3 = 9\n",
      "6 + 4 = 10\n",
      "6 + 5 = 11\n",
      "6 + 6 = 12\n",
      "6 + 7 = 13\n",
      "6 + 8 = 14\n",
      "6 + 9 = 15\n",
      "6 + 10 = 16\n"
     ]
    }
   ],
   "source": [
    "print(f'Tabuada da soma de {num}: ')\n",
    "\n",
    "for i in range(1, 11):\n",
    "    res = num + i\n",
    "    print(f'{num} + {i} = {res}')"
   ]
  },
  {
   "cell_type": "code",
   "execution_count": 8,
   "id": "e403d1ba",
   "metadata": {
    "scrolled": true
   },
   "outputs": [
    {
     "name": "stdout",
     "output_type": "stream",
     "text": [
      "Tabuada da subtração de 6: \n",
      "7 - 6 = 1\n",
      "8 - 6 = 2\n",
      "9 - 6 = 3\n",
      "10 - 6 = 4\n",
      "11 - 6 = 5\n",
      "12 - 6 = 6\n",
      "13 - 6 = 7\n",
      "14 - 6 = 8\n",
      "15 - 6 = 9\n",
      "16 - 6 = 10\n"
     ]
    }
   ],
   "source": [
    "print(f'Tabuada da subtração de {num}: ')\n",
    "\n",
    "for i in range(num+1, num+11):\n",
    "    res = i - num\n",
    "    print(f'{i} - {num} = {res}')"
   ]
  },
  {
   "cell_type": "code",
   "execution_count": 9,
   "id": "153fa745",
   "metadata": {},
   "outputs": [
    {
     "name": "stdout",
     "output_type": "stream",
     "text": [
      "Tabuada da multiplicação de 6: \n",
      "6 * 1 = 6\n",
      "6 * 2 = 12\n",
      "6 * 3 = 18\n",
      "6 * 4 = 24\n",
      "6 * 5 = 30\n",
      "6 * 6 = 36\n",
      "6 * 7 = 42\n",
      "6 * 8 = 48\n",
      "6 * 9 = 54\n",
      "6 * 10 = 60\n"
     ]
    }
   ],
   "source": [
    "print(f'Tabuada da multiplicação de {num}: ')\n",
    "\n",
    "for i in range(1, 11):\n",
    "    res = num * i\n",
    "    print(f'{num} * {i} = {res}')"
   ]
  },
  {
   "cell_type": "code",
   "execution_count": 20,
   "id": "1afc257e",
   "metadata": {},
   "outputs": [
    {
     "name": "stdout",
     "output_type": "stream",
     "text": [
      "Tabuada da divisão de 6: \n",
      "6 / 6 = 1.0\n",
      "12 / 6 = 2.0\n",
      "18 / 6 = 3.0\n",
      "24 / 6 = 4.0\n",
      "30 / 6 = 5.0\n",
      "36 / 6 = 6.0\n",
      "42 / 6 = 7.0\n",
      "48 / 6 = 8.0\n",
      "54 / 6 = 9.0\n",
      "60 / 6 = 10.0\n"
     ]
    }
   ],
   "source": [
    "print(f'Tabuada da divisão de {num}: ')\n",
    "\n",
    "for i in range(num,num*11,num):\n",
    "    res = i / num\n",
    "    print(f'{i} / {num} = {res}')"
   ]
  },
  {
   "cell_type": "code",
   "execution_count": null,
   "id": "2a0bc507",
   "metadata": {},
   "outputs": [],
   "source": []
  }
 ],
 "metadata": {
  "kernelspec": {
   "display_name": "Python 3 (ipykernel)",
   "language": "python",
   "name": "python3"
  },
  "language_info": {
   "codemirror_mode": {
    "name": "ipython",
    "version": 3
   },
   "file_extension": ".py",
   "mimetype": "text/x-python",
   "name": "python",
   "nbconvert_exporter": "python",
   "pygments_lexer": "ipython3",
   "version": "3.9.12"
  }
 },
 "nbformat": 4,
 "nbformat_minor": 5
}
