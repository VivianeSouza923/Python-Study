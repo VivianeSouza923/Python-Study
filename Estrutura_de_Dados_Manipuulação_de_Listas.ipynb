{
  "nbformat": 4,
  "nbformat_minor": 0,
  "metadata": {
    "colab": {
      "provenance": [],
      "authorship_tag": "ABX9TyPSBL4TfcLYc/XHk//UiPF5",
      "include_colab_link": true
    },
    "kernelspec": {
      "name": "python3",
      "display_name": "Python 3"
    },
    "language_info": {
      "name": "python"
    }
  },
  "cells": [
    {
      "cell_type": "markdown",
      "metadata": {
        "id": "view-in-github",
        "colab_type": "text"
      },
      "source": [
        "<a href=\"https://colab.research.google.com/github/VivianeSouza923/Python-Study/blob/main/Estrutura_de_Dados_Manipuula%C3%A7%C3%A3o_de_Listas.ipynb\" target=\"_parent\"><img src=\"https://colab.research.google.com/assets/colab-badge.svg\" alt=\"Open In Colab\"/></a>"
      ]
    },
    {
      "cell_type": "code",
      "execution_count": null,
      "metadata": {
        "id": "kXmaqCZTZTDa"
      },
      "outputs": [],
      "source": [
        "# Crie uma função que recebe uma lista e retorna uma nova lista com os elementos invertidos."
      ]
    },
    {
      "cell_type": "code",
      "source": [
        "def inverter_lista(lista): # crio a função, que recebe como parâmetro uma lista\n",
        "  nova_lista = [] # para guardar a lista invertida, vou criar uma vzia.\n",
        "  nova_lista = lista[::-1] # a nova lista, eu obtenho fazendo o slice com o passo -1 e armazeno na variável que criei anteriormente.\n",
        "  return nova_lista # e o retorno será a lista invertida. óbvio."
      ],
      "metadata": {
        "id": "oSIFHE6Rjtyo"
      },
      "execution_count": 1,
      "outputs": []
    },
    {
      "cell_type": "code",
      "source": [
        "lista = [1, 2, 3, 4, 5] # entro com a uma lista para testar a função\n",
        "inverter_lista(lista) # só chamar a função passando a lista acima como parâmetro"
      ],
      "metadata": {
        "colab": {
          "base_uri": "https://localhost:8080/"
        },
        "id": "jG34Dscsj9RE",
        "outputId": "504228f2-78f1-491f-bb19-03fcc228ae2a"
      },
      "execution_count": 2,
      "outputs": [
        {
          "output_type": "execute_result",
          "data": {
            "text/plain": [
              "[5, 4, 3, 2, 1]"
            ]
          },
          "metadata": {},
          "execution_count": 2
        }
      ]
    },
    {
      "cell_type": "code",
      "source": [
        "# Crie uma função que recebe duas listas e retorna uma nova lista com os elementos comuns às duas listas."
      ],
      "metadata": {
        "id": "6A6XVYxgkEke"
      },
      "execution_count": 3,
      "outputs": []
    },
    {
      "cell_type": "code",
      "source": [
        "def comuns(lista1, lista2): # crio a função que recebe como parâmetros duas listas\n",
        "  nova = [] # crio uma lista nova que vai armazenar a lista que quero obter\n",
        "  for i in lista1: # e ai para cada item da lista1, eu\n",
        "    if i in lista2: # verifico se o item da lista1 está na lista2\n",
        "      nova.append(i) # se positivo, eu atribuo o item á lista nova\n",
        "  return nova # e o retorno será a lista nova\n"
      ],
      "metadata": {
        "id": "ILKXQcAikKBY"
      },
      "execution_count": 4,
      "outputs": []
    },
    {
      "cell_type": "code",
      "source": [
        "lista1 = [1, 2, 6, 7, 4] # crio uma primeira lista para testar na função comuns\n",
        "k = [1, 2, 3, 4, 5] # crio uma segunda lista para testar na função comuns\n",
        "comuns(lista1, k) # chamo a função passando as duas listas como parâmetro"
      ],
      "metadata": {
        "colab": {
          "base_uri": "https://localhost:8080/"
        },
        "id": "UaAlxFgIkYqu",
        "outputId": "b87a9af5-cd7d-48f1-f707-eb671b2c7aeb"
      },
      "execution_count": 6,
      "outputs": [
        {
          "output_type": "execute_result",
          "data": {
            "text/plain": [
              "[1, 2, 4]"
            ]
          },
          "metadata": {},
          "execution_count": 6
        }
      ]
    },
    {
      "cell_type": "code",
      "source": [
        " # Crie uma função que recebe uma lista de números e retorna a soma dos quadrados de cada número."
      ],
      "metadata": {
        "id": "Za-0srF0kcqN"
      },
      "execution_count": 7,
      "outputs": []
    },
    {
      "cell_type": "code",
      "source": [
        "def soma_quadrados(lista): # crio a função que recebe como parâmetro uma lista\n",
        "  quadrado = [] # crio uma lista vazia para armazenar os quadrados dos números\n",
        "  for i in lista: # para cada número da lista\n",
        "    quadrado.append(i**2) # eu atribuo o quadraddo dele à lista \"quadrado\"\n",
        "    soma = sum(quadrado) # armmazeno na variável soma a soma da lista\n",
        "  return soma # e o retorno será a soma dos quadrados"
      ],
      "metadata": {
        "id": "6Q_2NgQgnMwY"
      },
      "execution_count": 11,
      "outputs": []
    },
    {
      "cell_type": "code",
      "source": [
        "lista2 = [1, 2, 3, 4, 5]\n",
        "soma_quadrados(lista2)"
      ],
      "metadata": {
        "colab": {
          "base_uri": "https://localhost:8080/"
        },
        "id": "JMjjSqTgnmUf",
        "outputId": "c8f7d05a-e913-4f6b-839d-3e3cccc0fdd8"
      },
      "execution_count": 12,
      "outputs": [
        {
          "output_type": "execute_result",
          "data": {
            "text/plain": [
              "55"
            ]
          },
          "metadata": {},
          "execution_count": 12
        }
      ]
    },
    {
      "cell_type": "code",
      "source": [
        "#  Crie uma função que recebe uma lista de strings e retorna a string mais longa."
      ],
      "metadata": {
        "id": "AGxEIb42npvN"
      },
      "execution_count": 13,
      "outputs": []
    },
    {
      "cell_type": "code",
      "source": [
        "def mais_longa(lista): # crio a função que rcebe como parâmetro uma lista\n",
        "  maior = '' # crio a menor lista possível para ser como o primeior maior\n",
        "  for i in lista: # percorro a minha lista\n",
        "    if len(i) > len(maior): # e comparo se o tamanho daquela string é maior do que o meu atual maior\n",
        "      maior = i # se positivo, a atribuo a minha variável maior\n",
        "  return maior # e o retorno será a string mais longa\n"
      ],
      "metadata": {
        "id": "nK-mj7Eeoq24"
      },
      "execution_count": 14,
      "outputs": []
    },
    {
      "cell_type": "code",
      "source": [
        "lista3 = ['a', 'bc', 'def', 'ghij', 'klmno']\n",
        "mais_longa(lista3)"
      ],
      "metadata": {
        "colab": {
          "base_uri": "https://localhost:8080/",
          "height": 36
        },
        "id": "fxwBHxRCpGNL",
        "outputId": "d71709e1-117f-45eb-d24a-d5bca40a3b15"
      },
      "execution_count": 15,
      "outputs": [
        {
          "output_type": "execute_result",
          "data": {
            "text/plain": [
              "'klmno'"
            ],
            "application/vnd.google.colaboratory.intrinsic+json": {
              "type": "string"
            }
          },
          "metadata": {},
          "execution_count": 15
        }
      ]
    },
    {
      "cell_type": "code",
      "source": [],
      "metadata": {
        "id": "DvruT6HMpNMF"
      },
      "execution_count": null,
      "outputs": []
    }
  ]
}