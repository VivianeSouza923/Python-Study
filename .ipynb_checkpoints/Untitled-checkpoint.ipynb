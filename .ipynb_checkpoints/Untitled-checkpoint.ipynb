{
 "cells": [
  {
   "cell_type": "markdown",
   "id": "42cf36bf-ecd8-4c11-b503-295dfd20c115",
   "metadata": {},
   "source": [
    "10. Funções:\n",
    "\n",
    "    • Crie uma função chamada soma que recebe dois números como argumentos e retorna a soma deles.\n",
    "    \n",
    "    • Crie uma função chamada multiplica que recebe dois números como argumentos e retorna a multiplicação deles.\n",
    "    \n",
    "    • Crie uma função chamada imprimir_nome que recebe um nome como argumento e imprime \"Olá, [nome]!\".\n",
    "    \n",
    "    • Chame as funções criadas e imprima os resultados."
   ]
  },
  {
   "cell_type": "code",
   "execution_count": 1,
   "id": "5465c5f9-4c19-4a1c-bf7b-99eb461b95af",
   "metadata": {},
   "outputs": [],
   "source": [
    "def soma (num, num1):\n",
    "    return num + num1"
   ]
  },
  {
   "cell_type": "code",
   "execution_count": 2,
   "id": "0e23d05a-d7cd-4ea7-a986-fd53d35c3a62",
   "metadata": {},
   "outputs": [
    {
     "data": {
      "text/plain": [
       "5"
      ]
     },
     "execution_count": 2,
     "metadata": {},
     "output_type": "execute_result"
    }
   ],
   "source": [
    "soma(2, 3)"
   ]
  },
  {
   "cell_type": "code",
   "execution_count": 3,
   "id": "34ba496c-f1d2-4982-936c-154713162e0b",
   "metadata": {},
   "outputs": [],
   "source": [
    "def multiplica(num, num1):\n",
    "    return num*num1"
   ]
  },
  {
   "cell_type": "code",
   "execution_count": 4,
   "id": "f4700b15-1d40-49ee-9a62-080e59a43faf",
   "metadata": {},
   "outputs": [
    {
     "data": {
      "text/plain": [
       "15"
      ]
     },
     "execution_count": 4,
     "metadata": {},
     "output_type": "execute_result"
    }
   ],
   "source": [
    "multiplica(3,5)"
   ]
  },
  {
   "cell_type": "code",
   "execution_count": 6,
   "id": "4722b601-307e-4d4b-9060-0a7847c5cb08",
   "metadata": {},
   "outputs": [],
   "source": [
    "def imprimir_nome(nome):\n",
    "    retorno = print(f'Olá, {nome}')\n",
    "    return retorno"
   ]
  },
  {
   "cell_type": "code",
   "execution_count": 8,
   "id": "d2ca5f10-23c8-4cf1-acd5-fade74191909",
   "metadata": {},
   "outputs": [
    {
     "name": "stdout",
     "output_type": "stream",
     "text": [
      "Olá, vivi\n"
     ]
    }
   ],
   "source": [
    "imprimir_nome('vivi')"
   ]
  },
  {
   "cell_type": "code",
   "execution_count": null,
   "id": "15f17d6b-d432-4ec3-9ab2-472ab35e894f",
   "metadata": {},
   "outputs": [],
   "source": []
  }
 ],
 "metadata": {
  "kernelspec": {
   "display_name": "Python 3 (ipykernel)",
   "language": "python",
   "name": "python3"
  },
  "language_info": {
   "codemirror_mode": {
    "name": "ipython",
    "version": 3
   },
   "file_extension": ".py",
   "mimetype": "text/x-python",
   "name": "python",
   "nbconvert_exporter": "python",
   "pygments_lexer": "ipython3",
   "version": "3.9.19"
  }
 },
 "nbformat": 4,
 "nbformat_minor": 5
}
