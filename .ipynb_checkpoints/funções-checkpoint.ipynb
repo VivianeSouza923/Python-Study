{
 "cells": [
  {
   "cell_type": "raw",
   "id": "381bdae8-e596-40d1-a485-743fb9319244",
   "metadata": {},
   "source": [
    "Funções:\n",
    "    1. Parâmetros e Retorno:\n",
    "        ◦ Crie uma função que recebe uma string e retorna o número de vogais na string.\n",
    "        ◦ Crie uma função que recebe uma lista de números e retorna o maior número da lista.\n",
    "        ◦ Crie uma função que recebe um número inteiro e retorna se o número é par ou ímpar.\n",
    "    2. Funções Recursivas:\n",
    "        ◦ Crie uma função recursiva que calcule o fatorial de um número.\n",
    "        ◦ Crie uma função recursiva que calcule a sequência de Fibonacci até um determinado número.\n",
    "        ◦ Crie uma função recursiva que inverta uma string."
   ]
  },
  {
   "cell_type": "code",
   "execution_count": 6,
   "id": "4d10dbbd-ad25-4190-8d48-888cd3494794",
   "metadata": {},
   "outputs": [
    {
     "name": "stdout",
     "output_type": "stream",
     "text": [
      "2\n",
      "4\n",
      "3\n"
     ]
    }
   ],
   "source": [
    "def numero_vogais(palavra):\n",
    "    vogal = 0\n",
    "    for i in palavra:\n",
    "        if i == 'a' or i == 'e' or i == 'i' or i == 'o' or i == 'u':\n",
    "            vogal += 1\n",
    "    print(vogal)\n",
    "\n",
    "\n",
    "numero_vogais('azul')\n",
    "numero_vogais('amarelo')\n",
    "numero_vogais('abrigo')"
   ]
  },
  {
   "cell_type": "code",
   "execution_count": 7,
   "id": "a1c961b0-56b6-4c29-b821-a5be8c82827f",
   "metadata": {},
   "outputs": [
    {
     "data": {
      "text/plain": [
       "34"
      ]
     },
     "execution_count": 7,
     "metadata": {},
     "output_type": "execute_result"
    }
   ],
   "source": [
    "def maior_numero(lista):\n",
    "    return max(lista)\n",
    "\n",
    "\n",
    "maior_numero([1, 2, 34, 6])"
   ]
  },
  {
   "cell_type": "code",
   "execution_count": 8,
   "id": "b5b5cfe3-8cc9-49f8-8b74-16227e33bfd4",
   "metadata": {},
   "outputs": [
    {
     "name": "stdout",
     "output_type": "stream",
     "text": [
      "O número 3 é ímpar.\n",
      "O número 0 é par.\n",
      "O número 9 é ímpar.\n",
      "O número 2 é par.\n"
     ]
    }
   ],
   "source": [
    "def impar_ou_par(numero):\n",
    "    if numero % 2 == 0:\n",
    "        print(f'O número {numero} é par.')\n",
    "    else:\n",
    "        print(f'O número {numero} é ímpar.')\n",
    "\n",
    "impar_ou_par(3)\n",
    "impar_ou_par(0)\n",
    "impar_ou_par(9)\n",
    "impar_ou_par(2)"
   ]
  },
  {
   "cell_type": "code",
   "execution_count": 11,
   "id": "661c0d8e-e837-4423-9887-eef73d275dd9",
   "metadata": {},
   "outputs": [
    {
     "data": {
      "text/plain": [
       "120"
      ]
     },
     "execution_count": 11,
     "metadata": {},
     "output_type": "execute_result"
    }
   ],
   "source": [
    "def fatorial(numero):\n",
    "    if numero == 0 or numero == 1:\n",
    "        return 1\n",
    "    else:\n",
    "        return numero * fatorial(numero-1)\n",
    "\n",
    "\n",
    "fatorial(5)"
   ]
  },
  {
   "cell_type": "code",
   "execution_count": 23,
   "id": "426eb86a-4014-4c24-a0a6-11e427a688dd",
   "metadata": {},
   "outputs": [
    {
     "name": "stdout",
     "output_type": "stream",
     "text": [
      "[0, 1, 1, 2, 3, 5, 8, 13, 21, 34, 55, 89, 144, 233, 377, 610, 987, 1597, 2584, 4181, 6765, 10946, 17711, 28657, 46368, 75025]\n"
     ]
    }
   ],
   "source": [
    "def fibonacci(numero):\n",
    "    if numero <= 1:\n",
    "        return [0, 1]  # Retorna os dois primeiros termos\n",
    "    else:\n",
    "        sequencia = fibonacci(numero - 1)\n",
    "        sequencia.append(sequencia[-1] + sequencia[-2])\n",
    "        return sequencia\n",
    "\n",
    "print(fibonacci(25))"
   ]
  },
  {
   "cell_type": "code",
   "execution_count": null,
   "id": "7b9ea3f8-49bd-4462-ac63-625a64ba48fc",
   "metadata": {},
   "outputs": [],
   "source": [
    "def inverte_string(palavra):\n",
    "    "
   ]
  }
 ],
 "metadata": {
  "kernelspec": {
   "display_name": "Python 3 (ipykernel)",
   "language": "python",
   "name": "python3"
  },
  "language_info": {
   "codemirror_mode": {
    "name": "ipython",
    "version": 3
   },
   "file_extension": ".py",
   "mimetype": "text/x-python",
   "name": "python",
   "nbconvert_exporter": "python",
   "pygments_lexer": "ipython3",
   "version": "3.9.19"
  }
 },
 "nbformat": 4,
 "nbformat_minor": 5
}
