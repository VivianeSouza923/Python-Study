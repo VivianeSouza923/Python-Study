{
 "cells": [
  {
   "cell_type": "code",
   "execution_count": 1,
   "id": "163354f2",
   "metadata": {},
   "outputs": [],
   "source": [
    "# Crie um programa que converta uma temperatura em graus Celsius para Fahrenheit. A fórmula é: F=C*9/5+32."
   ]
  },
  {
   "cell_type": "code",
   "execution_count": 7,
   "id": "9a7744eb",
   "metadata": {},
   "outputs": [
    {
     "name": "stdout",
     "output_type": "stream",
     "text": [
      "10\n"
     ]
    }
   ],
   "source": [
    "celsius = float(input())"
   ]
  },
  {
   "cell_type": "code",
   "execution_count": 8,
   "id": "a176f5af",
   "metadata": {},
   "outputs": [
    {
     "name": "stdout",
     "output_type": "stream",
     "text": [
      "A temperatura 10.0C é equivalente a 50.0F.\n"
     ]
    }
   ],
   "source": [
    "fahrenheit = (celsius*9/5) + 32\n",
    "\n",
    "print(f'A temperatura {celsius}C é equivalente a {fahrenheit}F.')"
   ]
  },
  {
   "cell_type": "code",
   "execution_count": null,
   "id": "6faf7212",
   "metadata": {},
   "outputs": [],
   "source": []
  }
 ],
 "metadata": {
  "kernelspec": {
   "display_name": "Python 3 (ipykernel)",
   "language": "python",
   "name": "python3"
  },
  "language_info": {
   "codemirror_mode": {
    "name": "ipython",
    "version": 3
   },
   "file_extension": ".py",
   "mimetype": "text/x-python",
   "name": "python",
   "nbconvert_exporter": "python",
   "pygments_lexer": "ipython3",
   "version": "3.9.12"
  }
 },
 "nbformat": 4,
 "nbformat_minor": 5
}
