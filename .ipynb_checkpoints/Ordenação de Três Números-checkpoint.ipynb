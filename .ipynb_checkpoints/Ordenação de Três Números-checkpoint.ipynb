{
 "cells": [
  {
   "cell_type": "code",
   "execution_count": 1,
   "id": "31196fc8",
   "metadata": {},
   "outputs": [],
   "source": [
    "#     9. Ordenação de Três Números:\n",
    "#        ◦ Solicite três números ao usuário e imprima os números em ordem crescente."
   ]
  },
  {
   "cell_type": "code",
   "execution_count": 8,
   "id": "4df8ec1a",
   "metadata": {},
   "outputs": [
    {
     "name": "stdout",
     "output_type": "stream",
     "text": [
      "Digite o primeiro número: 5\n",
      "Digite o segundo número: 25\n",
      "Digite o terceiro número: 9\n"
     ]
    }
   ],
   "source": [
    "num = int(input('Digite o primeiro número: '))\n",
    "num1 = int(input('Digite o segundo número: '))\n",
    "num2 = int(input('Digite o terceiro número: '))"
   ]
  },
  {
   "cell_type": "code",
   "execution_count": 13,
   "id": "fd9f35e1",
   "metadata": {},
   "outputs": [
    {
     "data": {
      "text/plain": [
       "[5, 25, 9]"
      ]
     },
     "execution_count": 13,
     "metadata": {},
     "output_type": "execute_result"
    }
   ],
   "source": [
    "lista = [num, num1, num2]\n",
    "lista"
   ]
  },
  {
   "cell_type": "code",
   "execution_count": 15,
   "id": "ddb44613",
   "metadata": {},
   "outputs": [
    {
     "data": {
      "text/plain": [
       "[5, 9, 25]"
      ]
     },
     "execution_count": 15,
     "metadata": {},
     "output_type": "execute_result"
    }
   ],
   "source": [
    "ordenados = sorted(lista)\n",
    "ordenados"
   ]
  },
  {
   "cell_type": "code",
   "execution_count": null,
   "id": "c616caac",
   "metadata": {},
   "outputs": [],
   "source": []
  }
 ],
 "metadata": {
  "kernelspec": {
   "display_name": "Python 3 (ipykernel)",
   "language": "python",
   "name": "python3"
  },
  "language_info": {
   "codemirror_mode": {
    "name": "ipython",
    "version": 3
   },
   "file_extension": ".py",
   "mimetype": "text/x-python",
   "name": "python",
   "nbconvert_exporter": "python",
   "pygments_lexer": "ipython3",
   "version": "3.9.12"
  }
 },
 "nbformat": 4,
 "nbformat_minor": 5
}
