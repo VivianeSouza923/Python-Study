{
 "cells": [
  {
   "cell_type": "code",
   "execution_count": 5,
   "id": "fa97c75e",
   "metadata": {},
   "outputs": [
    {
     "data": {
      "text/plain": [
       "'Verificador de Número Par ou Ímpar: \\nSolicite um número ao usuário e indique se é par ou ímpar.'"
      ]
     },
     "execution_count": 5,
     "metadata": {},
     "output_type": "execute_result"
    }
   ],
   "source": [
    "'''Verificador de Número Par ou Ímpar: \n",
    "Solicite um número ao usuário e indique se é par ou ímpar.'''"
   ]
  },
  {
   "cell_type": "code",
   "execution_count": 17,
   "id": "438a02f8",
   "metadata": {},
   "outputs": [
    {
     "name": "stdout",
     "output_type": "stream",
     "text": [
      "Digite um número: 6\n"
     ]
    }
   ],
   "source": [
    "num = float(input('Digite um número: '))"
   ]
  },
  {
   "cell_type": "code",
   "execution_count": 18,
   "id": "b5979e2a",
   "metadata": {},
   "outputs": [
    {
     "name": "stdout",
     "output_type": "stream",
     "text": [
      "O número 6.0 é par.\n"
     ]
    }
   ],
   "source": [
    "if num % 2 == 0:\n",
    "    print(f'O número {num} é par.')\n",
    "else:\n",
    "    print(f'O número {num} é ímpar.')"
   ]
  },
  {
   "cell_type": "code",
   "execution_count": null,
   "id": "538b9e08",
   "metadata": {},
   "outputs": [],
   "source": []
  }
 ],
 "metadata": {
  "kernelspec": {
   "display_name": "Python 3 (ipykernel)",
   "language": "python",
   "name": "python3"
  },
  "language_info": {
   "codemirror_mode": {
    "name": "ipython",
    "version": 3
   },
   "file_extension": ".py",
   "mimetype": "text/x-python",
   "name": "python",
   "nbconvert_exporter": "python",
   "pygments_lexer": "ipython3",
   "version": "3.9.12"
  }
 },
 "nbformat": 4,
 "nbformat_minor": 5
}
